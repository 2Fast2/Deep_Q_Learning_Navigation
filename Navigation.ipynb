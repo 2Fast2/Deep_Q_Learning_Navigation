{
 "cells": [
  {
   "cell_type": "markdown",
   "metadata": {},
   "source": [
    "# Navigation\n",
    "\n",
    "---\n",
    "\n",
    "You are welcome to use this coding environment to train your agent for the project.  Follow the instructions below to get started!\n",
    "\n",
    "### 1. Start the Environment\n",
    "\n",
    "Run the next code cell to install a few packages.  This line will take a few minutes to run!"
   ]
  },
  {
   "cell_type": "code",
   "execution_count": 2,
   "metadata": {},
   "outputs": [
    {
     "name": "stdout",
     "output_type": "stream",
     "text": [
      "Collecting numpy==1.13.3\n",
      "\u001b[?25l  Downloading https://files.pythonhosted.org/packages/57/a7/e3e6bd9d595125e1abbe162e323fd2d06f6f6683185294b79cd2cdb190d5/numpy-1.13.3-cp36-cp36m-manylinux1_x86_64.whl (17.0MB)\n",
      "\u001b[K    100% |████████████████████████████████| 17.0MB 2.5MB/s eta 0:00:01\n",
      "\u001b[?25hInstalling collected packages: numpy\n",
      "  Found existing installation: numpy 1.12.1\n",
      "    Uninstalling numpy-1.12.1:\n",
      "      Successfully uninstalled numpy-1.12.1\n",
      "Successfully installed numpy-1.13.3\n"
     ]
    }
   ],
   "source": [
    "!pip install numpy==1.13.3"
   ]
  },
  {
   "cell_type": "code",
   "execution_count": null,
   "metadata": {},
   "outputs": [],
   "source": [
    "!pip install prompt-toolkit==1.0.15"
   ]
  },
  {
   "cell_type": "code",
   "execution_count": 3,
   "metadata": {},
   "outputs": [],
   "source": [
    "!pip -q install ./python"
   ]
  },
  {
   "cell_type": "markdown",
   "metadata": {},
   "source": [
    "The environment is already saved in the Workspace and can be accessed at the file path provided below.  Please run the next code cell without making any changes."
   ]
  },
  {
   "cell_type": "code",
   "execution_count": 4,
   "metadata": {},
   "outputs": [
    {
     "name": "stderr",
     "output_type": "stream",
     "text": [
      "INFO:unityagents:\n",
      "'Academy' started successfully!\n",
      "Unity Academy name: Academy\n",
      "        Number of Brains: 1\n",
      "        Number of External Brains : 1\n",
      "        Lesson number : 0\n",
      "        Reset Parameters :\n",
      "\t\t\n",
      "Unity brain name: BananaBrain\n",
      "        Number of Visual Observations (per agent): 0\n",
      "        Vector Observation space type: continuous\n",
      "        Vector Observation space size (per agent): 37\n",
      "        Number of stacked Vector Observation: 1\n",
      "        Vector Action space type: discrete\n",
      "        Vector Action space size (per agent): 4\n",
      "        Vector Action descriptions: , , , \n"
     ]
    }
   ],
   "source": [
    "from unityagents import UnityEnvironment\n",
    "import numpy as np\n",
    "\n",
    "# please do not modify the line below\n",
    "env = UnityEnvironment(file_name=\"/data/Banana_Linux_NoVis/Banana.x86_64\")"
   ]
  },
  {
   "cell_type": "markdown",
   "metadata": {},
   "source": [
    "Environments contain **_brains_** which are responsible for deciding the actions of their associated agents. Here we check for the first brain available, and set it as the default brain we will be controlling from Python."
   ]
  },
  {
   "cell_type": "code",
   "execution_count": 5,
   "metadata": {},
   "outputs": [],
   "source": [
    "# get the default brain\n",
    "brain_name = env.brain_names[0]\n",
    "brain = env.brains[brain_name]"
   ]
  },
  {
   "cell_type": "markdown",
   "metadata": {},
   "source": [
    "### 2. Examine the State and Action Spaces\n",
    "\n",
    "Run the code cell below to print some information about the environment."
   ]
  },
  {
   "cell_type": "code",
   "execution_count": 6,
   "metadata": {},
   "outputs": [
    {
     "name": "stdout",
     "output_type": "stream",
     "text": [
      "Number of agents: 1\n",
      "Number of actions: 4\n",
      "States look like: [ 1.          0.          0.          0.          0.84408134  0.          0.\n",
      "  1.          0.          0.0748472   0.          1.          0.          0.\n",
      "  0.25755     1.          0.          0.          0.          0.74177343\n",
      "  0.          1.          0.          0.          0.25854847  0.          0.\n",
      "  1.          0.          0.09355672  0.          1.          0.          0.\n",
      "  0.31969345  0.          0.        ]\n",
      "States have length: 37\n"
     ]
    }
   ],
   "source": [
    "# reset the environment\n",
    "env_info = env.reset(train_mode=True)[brain_name]\n",
    "\n",
    "# number of agents in the environment\n",
    "print('Number of agents:', len(env_info.agents))\n",
    "\n",
    "# number of actions\n",
    "action_size = brain.vector_action_space_size\n",
    "print('Number of actions:', action_size)\n",
    "\n",
    "# examine the state space \n",
    "state = env_info.vector_observations[0]\n",
    "print('States look like:', state)\n",
    "state_size = len(state)\n",
    "print('States have length:', state_size)"
   ]
  },
  {
   "cell_type": "markdown",
   "metadata": {},
   "source": [
    "### 3. Take Random Actions in the Environment\n",
    "\n",
    "In the next code cell, you will learn how to use the Python API to control the agent and receive feedback from the environment.\n",
    "\n",
    "Note that **in this coding environment, you will not be able to watch the agent while it is training**, and you should set `train_mode=True` to restart the environment."
   ]
  },
  {
   "cell_type": "code",
   "execution_count": 7,
   "metadata": {},
   "outputs": [
    {
     "name": "stdout",
     "output_type": "stream",
     "text": [
      "Score: 0.0\n"
     ]
    }
   ],
   "source": [
    "env_info = env.reset(train_mode=True)[brain_name] # reset the environment\n",
    "state = env_info.vector_observations[0]            # get the current state\n",
    "score = 0                                          # initialize the score\n",
    "while True:\n",
    "    action = np.random.randint(action_size)        # select an action\n",
    "    env_info = env.step(action)[brain_name]        # send the action to the environment\n",
    "    next_state = env_info.vector_observations[0]   # get the next state\n",
    "    reward = env_info.rewards[0]                   # get the reward\n",
    "    done = env_info.local_done[0]                  # see if episode has finished\n",
    "    score += reward                                # update the score\n",
    "    state = next_state                             # roll over the state to next time step\n",
    "    if done:                                       # exit loop if episode finished\n",
    "        break\n",
    "    \n",
    "print(\"Score: {}\".format(score))"
   ]
  },
  {
   "cell_type": "markdown",
   "metadata": {},
   "source": [
    "When finished, you can close the environment."
   ]
  },
  {
   "cell_type": "code",
   "execution_count": null,
   "metadata": {},
   "outputs": [],
   "source": [
    "env.close()"
   ]
  },
  {
   "cell_type": "markdown",
   "metadata": {},
   "source": [
    "### 4. It's Your Turn!\n",
    "\n",
    "Now it's your turn to train your own agent to solve the environment!  A few **important notes**:\n",
    "- When training the environment, set `train_mode=True`, so that the line for resetting the environment looks like the following:\n",
    "```python\n",
    "env_info = env.reset(train_mode=True)[brain_name]\n",
    "```\n",
    "- To structure your work, you're welcome to work directly in this Jupyter notebook, or you might like to start over with a new file!  You can see the list of files in the workspace by clicking on **_Jupyter_** in the top left corner of the notebook.\n",
    "- In this coding environment, you will not be able to watch the agent while it is training.  However, **_after training the agent_**, you can download the saved model weights to watch the agent on your own machine! "
   ]
  },
  {
   "cell_type": "code",
   "execution_count": 8,
   "metadata": {},
   "outputs": [],
   "source": [
    "import torch.nn as nn\n",
    "\n",
    "def q_model (state_size, action_size, seed):\n",
    "    hidden_size = 64\n",
    "    return nn.Sequential(\n",
    "        nn.Linear(state_size, hidden_size),\n",
    "        nn.ReLU(),\n",
    "        nn.Linear(hidden_size, hidden_size),\n",
    "        nn.ReLU(),\n",
    "        nn.Linear(hidden_size, action_size))"
   ]
  },
  {
   "cell_type": "markdown",
   "metadata": {},
   "source": [
    "Replay buffer class with random sampling"
   ]
  },
  {
   "cell_type": "code",
   "execution_count": 9,
   "metadata": {},
   "outputs": [],
   "source": [
    "import torch\n",
    "import random\n",
    "from collections import deque, namedtuple\n",
    "\n",
    "class ReplayBuffer:\n",
    "    \"\"\" Fixed sized buffer to store experience tuples \"\"\"\n",
    "\n",
    "    def __init__(self, action_size, buffer_size, batch_size, seed):\n",
    "        \"\"\"\n",
    "        Initialize Replay Buffer object.\n",
    "        \"\"\"\n",
    "\n",
    "        self.action_size = action_size\n",
    "        self.memory = deque(maxlen=buffer_size)\n",
    "        self.batch_size = batch_size\n",
    "        self.seed = random.seed(seed)\n",
    "        self.experience = namedtuple('Experience', field_names=['state', 'action', 'reward', 'next_state', 'done'])\n",
    "\n",
    "    def __len__(self):\n",
    "        \"\"\"\n",
    "        return the current buffer memory size.\n",
    "        \"\"\"\n",
    "        return len(self.memory)\n",
    "\n",
    "    def add(self, state, action, reward, next_state, done):\n",
    "        self.memory.append(\n",
    "            self.experience(state, action, reward, next_state, done)\n",
    "        )\n",
    "    \n",
    "    def sample(self):\n",
    "        \"\"\"\n",
    "        return a randomly selected experience from the buffer.\n",
    "        \"\"\"\n",
    "        experiences = random.sample(self.memory, k=self.batch_size)\n",
    "\n",
    "        states = torch.from_numpy(np.vstack([e.state for e in experiences if e is not None])).float().to(device)\n",
    "        actions = torch.from_numpy(np.vstack([e.action for e in experiences if e is not None])).long().to(device)\n",
    "        rewards = torch.from_numpy(np.vstack([e.reward for e in experiences if e is not None])).float().to(device)\n",
    "        next_states = torch.from_numpy(np.vstack([e.next_state for e in experiences if e is not None])).float().to(device) \n",
    "        done = torch.from_numpy(np.vstack([e.done for e in experiences if e is not None]).astype(np.uint8)).float().to(device)\n",
    "\n",
    "        return (states, actions, rewards, next_states, done)\n"
   ]
  },
  {
   "cell_type": "markdown",
   "metadata": {},
   "source": [
    "RL agent definition"
   ]
  },
  {
   "cell_type": "code",
   "execution_count": 17,
   "metadata": {},
   "outputs": [],
   "source": [
    "import torch.optim as optim\n",
    "import torch.nn.functional as F\n",
    "\n",
    "# replay buffer size\n",
    "BUFFER_SIZE = int(1e5)\n",
    "# minibatch size\n",
    "BATCH_SIZE = 64\n",
    "# how often to update the network\n",
    "NET_UPDATE = 4\n",
    "# discount factor\n",
    "GAMMA = 0.99\n",
    "# for soft update of target parameters\n",
    "TAU = 5e-3\n",
    "# Learning rate\n",
    "LR = 1e-3\n",
    "\n",
    "device = torch.device('cuda:0' if torch.cuda.is_available() else 'cpu')\n",
    "\n",
    "class Agent():\n",
    "    \"\"\"\n",
    "    Interacts and learns from the environment.\n",
    "    \"\"\"\n",
    "    def __init__(self, state_size, action_size, seed):\n",
    "        \"\"\"\n",
    "        Object initialization.\n",
    "        \"\"\"\n",
    "        self.state_size = state_size\n",
    "        self.action_size = action_size\n",
    "        self.seed = random.seed(seed)\n",
    "\n",
    "        self.q_local = q_model(state_size,action_size, seed).to(device)\n",
    "        self.q_target = q_model(state_size,action_size, seed).to(device)\n",
    "        self.optimizer = optim.Adam(self.q_local.parameters(), lr=LR)\n",
    "\n",
    "        self.buffer = ReplayBuffer(action_size, BUFFER_SIZE, BATCH_SIZE, seed)\n",
    "        self.t_step = 0\n",
    "\n",
    "    def soft_update(self):\n",
    "        \"\"\"\n",
    "        Soft update model parameters.\n",
    "        \"\"\"\n",
    "        for target_p, local_p in zip(self.q_target.parameters(), self.q_local.parameters()):\n",
    "            target_p.data.copy_(TAU * local_p.data + (1 - TAU)*target_p.data)\n",
    "\n",
    "    def learn(self):\n",
    "        \"\"\"\n",
    "        Update value parameters using given batch of experience tuples.\n",
    "        \"\"\"\n",
    "        states, actions, rewards, next_states, dones = self.buffer.sample()\n",
    "\n",
    "        q_targets_next  =  self.q_target(next_states).detach().max(1)[0].unsqueeze(1)\n",
    "        q_targets = rewards + (GAMMA * q_targets_next * (1 - dones))\n",
    "        q_pred = self.q_local(states).gather(1, actions)\n",
    "        loss = F.mse_loss(q_pred, q_targets)\n",
    "\n",
    "        self.optimizer.zero_grad()\n",
    "        loss.backward()\n",
    "        self.optimizer.step()\n",
    "\n",
    "        # update target network\n",
    "        self.soft_update()\n",
    "\n",
    "    def step(self, action, state, reward, next_state, done):\n",
    "        \"\"\"\n",
    "        Learn from the experience.\n",
    "        \"\"\"\n",
    "        self.buffer.add(action, state, reward, next_state, done)\n",
    "\n",
    "        self.t_step = (self.t_step + 1) % NET_UPDATE\n",
    "\n",
    "        if self.t_step == 0:\n",
    "            if len(self.buffer) > BATCH_SIZE:\n",
    "                self.learn()\n",
    "    \n",
    "    def act(self, state, eps=0.0):\n",
    "        \"\"\"\n",
    "        Returns actions for given state as per current policy.\n",
    "        \"\"\"\n",
    "        state = torch.from_numpy(state).float().unsqueeze(0).to(device)\n",
    "\n",
    "        self.q_local.eval()\n",
    "        with torch.no_grad():\n",
    "            action = self.q_local(state)\n",
    "        \n",
    "        self.q_local.train()\n",
    "        if random.random() > eps:\n",
    "            action = np.argmax(action.cpu().data.numpy())\n",
    "        else:\n",
    "            action = np.random.choice(np.arange(self.action_size))\n",
    "        return action\n",
    "\n"
   ]
  },
  {
   "cell_type": "markdown",
   "metadata": {},
   "source": [
    "RL agent training fuction."
   ]
  },
  {
   "cell_type": "code",
   "execution_count": 11,
   "metadata": {},
   "outputs": [],
   "source": [
    "import matplotlib.pyplot as plt\n",
    "%matplotlib inline\n",
    "\n",
    "def dqn(num_episodes=3000, max_t=1000, eps_start=1.0, eps_end=0.01, eps_decay=0.995):\n",
    "    \"\"\"\n",
    "    Deep Q-Learning\n",
    "    \"\"\"\n",
    "    # list containing scores from each episode.\n",
    "    scores = []\n",
    "    # last 100 scores.\n",
    "    scores_recent = deque(maxlen=100)\n",
    "    # initialize epsilon.\n",
    "    eps = eps_start\n",
    "\n",
    "    for i_episode in range(1, num_episodes + 1):\n",
    "        env_info = env.reset(train_mode=True)[brain_name]\n",
    "\n",
    "        # get the initial state\n",
    "        state = env_info.vector_observations[0]\n",
    "\n",
    "        score = 0\n",
    "        # consider episodic with 100 steps.\n",
    "        for i_t in range(max_t):\n",
    "            # select an action.\n",
    "            action = agent.act(state, eps)\n",
    "            # send the action to the environment.\n",
    "            env_info = env.step(action)[brain_name]\n",
    "            # get the next state.\n",
    "            next_state = env_info.vector_observations[0]\n",
    "            # get the reward.\n",
    "            reward = env_info.rewards[0]\n",
    "            # see if the episode has finished.\n",
    "            done = env_info.local_done[0]\n",
    "            # sample and learn step of Q-Learning\n",
    "            agent.step(state, action, reward, next_state, done)\n",
    "            # update score.\n",
    "            score += reward\n",
    "            # upward the next state step.\n",
    "            state = next_state\n",
    "            # finis if the episode is done.\n",
    "            if done:\n",
    "                break\n",
    "        \n",
    "        # store score\n",
    "        scores.append(score)\n",
    "        scores_recent.append(score)\n",
    "\n",
    "        # decrease epsilon\n",
    "        eps = max(eps_end, eps * eps_decay)\n",
    "\n",
    "        print('\\rEpisode {}\\tAverage_Score: {:-2f}'.format(i_episode, np.mean(scores_recent)), end=\"\")\n",
    "\n",
    "        if i_episode % 100 == 0:\n",
    "            print('\\rEpisode {}\\tAverage Score: {:.2f}'.format(i_episode, np.mean(scores_recent)))\n",
    "        \n",
    "        if np.mean(scores_recent)>=13.0:\n",
    "            print('\\nEnvironment solved in {:d} episodes!\\tAverage Score: {:.2f}'.format(i_episode-100, np.mean(scores_recent)))\n",
    "            torch.save(agent.q_local.state_dict(), 'checkpoint.pth')\n",
    "            break\n",
    "    \n",
    "    return scores\n"
   ]
  },
  {
   "cell_type": "markdown",
   "metadata": {},
   "source": [
    "Main fuction."
   ]
  },
  {
   "cell_type": "code",
   "execution_count": 18,
   "metadata": {},
   "outputs": [
    {
     "name": "stdout",
     "output_type": "stream",
     "text": [
      "Episode 100\tAverage Score: 4.210000\n",
      "Episode 200\tAverage Score: 11.540000\n",
      "Episode 300\tAverage Score: 12.010000\n",
      "Episode 400\tAverage Score: 12.290000\n",
      "Episode 480\tAverage_Score: 13.020000\n",
      "Environment solved in 380 episodes!\tAverage Score: 13.02\n"
     ]
    },
    {
     "data": {
      "image/png": "[encoded data removed]",
      "text/plain": [
       "<matplotlib.figure.Figure at 0x7fb4d9e0d2b0>"
      ]
     },
     "metadata": {
      "needs_background": "light"
     },
     "output_type": "display_data"
    }
   ],
   "source": [
    "agent = Agent(state_size, action_size, seed=0)\n",
    "scores = dqn(2000, eps_decay=0.925)\n",
    "\n",
    "# plot the scores\n",
    "fig = plt.figure()\n",
    "ax = fig.add_subplot(111)\n",
    "plt.plot(np.arange(len(scores)), scores)\n",
    "plt.ylabel('Score')\n",
    "plt.xlabel('Episode #')\n",
    "plt.show()"
   ]
  },
  {
   "cell_type": "code",
   "execution_count": 19,
   "metadata": {},
   "outputs": [],
   "source": [
    "env.close()"
   ]
  }
 ],
 "metadata": {
  "kernelspec": {
   "display_name": "Python 3",
   "language": "python",
   "name": "python3"
  },
  "language_info": {
   "codemirror_mode": {
    "name": "ipython",
    "version": 3
   },
   "file_extension": ".py",
   "mimetype": "text/x-python",
   "name": "python",
   "nbconvert_exporter": "python",
   "pygments_lexer": "ipython3",
   "version": "3.6.3"
  }
 },
 "nbformat": 4,
 "nbformat_minor": 2
}
